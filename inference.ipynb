{
 "cells": [
  {
   "cell_type": "code",
   "execution_count": 6,
   "metadata": {},
   "outputs": [],
   "source": [
    "import os\n",
    "import math\n",
    "from PIL import Image\n",
    "import numpy as np\n",
    "import matplotlib.pyplot as plt\n",
    "from typing import List\n",
    "\n",
    "import kagglehub\n",
    "import shutil\n",
    "\n",
    "import torch\n",
    "import torch.nn as nn\n",
    "from torch.nn import functional as F\n",
    "from torch.utils.data import Dataset, IterableDataset\n",
    "from torchvision import transforms\n",
    "\n",
    "from diffusion_model import DeviceManager, LearningRateScheduler, \\\n",
    "    CatDataset, NoiseScheduler, Block, SinusidalPositionEmbeddings, SimpleUnet"
   ]
  },
  {
   "cell_type": "code",
   "execution_count": 7,
   "metadata": {},
   "outputs": [],
   "source": [
    "def load_model(filename):\n",
    "    if not os.path.exists(filename):\n",
    "        folder_path = os.path.dirname(filename)\n",
    "        os.makedirs(folder_path, exist_ok=True)\n",
    "\n",
    "        path = kagglehub.model_download(\"danildolgov/cat-diffusion/pyTorch/64x64\")\n",
    "        cache_file = os.listdir(path)[0]\n",
    "        \n",
    "        shutil.move(os.path.join(path, cache_file), filename)\n",
    "    \n",
    "    return filename"
   ]
  },
  {
   "cell_type": "code",
   "execution_count": 8,
   "metadata": {},
   "outputs": [],
   "source": [
    "device = \"cuda\" if torch.cuda.is_available() else \"cpu\"\n",
    "device_manager = DeviceManager(0, 1, True, device)\n",
    "\n",
    "model_path = r\"models\\cat-diffusion-64px\\model.pt\""
   ]
  },
  {
   "cell_type": "code",
   "execution_count": 9,
   "metadata": {},
   "outputs": [
    {
     "name": "stderr",
     "output_type": "stream",
     "text": [
      "C:\\Users\\Email.LIT\\AppData\\Local\\Temp\\ipykernel_9876\\2903134867.py:1: FutureWarning: You are using `torch.load` with `weights_only=False` (the current default value), which uses the default pickle module implicitly. It is possible to construct malicious pickle data which will execute arbitrary code during unpickling (See https://github.com/pytorch/pytorch/blob/main/SECURITY.md#untrusted-models for more details). In a future release, the default value for `weights_only` will be flipped to `True`. This limits the functions that could be executed during unpickling. Arbitrary objects will no longer be allowed to be loaded via this mode unless they are explicitly allowlisted by the user via `torch.serialization.add_safe_globals`. We recommend you start setting `weights_only=True` for any use case where you don't have full control of the loaded file. Please open an issue on GitHub for any issues related to this experimental feature.\n",
      "  checkpoint = torch.load(load_model(model_path))\n"
     ]
    },
    {
     "data": {
      "text/plain": [
       "<All keys matched successfully>"
      ]
     },
     "execution_count": 9,
     "metadata": {},
     "output_type": "execute_result"
    }
   ],
   "source": [
    "checkpoint = torch.load(load_model(model_path))\n",
    "\n",
    "model = SimpleUnet()\n",
    "model.to(device_manager.device)\n",
    "model.load_state_dict(checkpoint[\"model\"])"
   ]
  },
  {
   "cell_type": "markdown",
   "metadata": {},
   "source": [
    "### Inference code"
   ]
  },
  {
   "cell_type": "code",
   "execution_count": 10,
   "metadata": {},
   "outputs": [],
   "source": [
    "T = 300\n",
    "image_size = 64\n",
    "count_x = 5\n",
    "count_y = 5\n",
    "\n",
    "noise_scheduler = NoiseScheduler(T, device_manager)\n",
    "noises = torch.randn((count_x*count_y, 3, image_size, image_size), device=device_manager.device)\n",
    "\n",
    "images = model.generate_images(noises, T, noise_scheduler, device_manager).cpu()\n",
    "\n",
    "fig, axes = plt.subplots(count_y, count_x, figsize=(8, 8))\n",
    "axes = axes.flatten()\n",
    "\n",
    "reverse_transform = transforms.Compose([\n",
    "    transforms.Lambda(lambda x: (x + 1) / 2), \n",
    "    transforms.ToPILImage()\n",
    "])\n",
    "\n",
    "for ax, image in zip(axes, images):\n",
    "    pil_image = reverse_transform(image)\n",
    "    ax.imshow(pil_image)\n",
    "    ax.axis('off')\n",
    "\n",
    "plt.tight_layout()\n",
    "plt.show()"
   ]
  }
 ],
 "metadata": {
  "kernelspec": {
   "display_name": "Python 3",
   "language": "python",
   "name": "python3"
  },
  "language_info": {
   "codemirror_mode": {
    "name": "ipython",
    "version": 3
   },
   "file_extension": ".py",
   "mimetype": "text/x-python",
   "name": "python",
   "nbconvert_exporter": "python",
   "pygments_lexer": "ipython3",
   "version": "3.11.9"
  }
 },
 "nbformat": 4,
 "nbformat_minor": 2
}
